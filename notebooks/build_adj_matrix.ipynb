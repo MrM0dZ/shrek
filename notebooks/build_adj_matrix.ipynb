{
 "cells": [
  {
   "cell_type": "code",
   "execution_count": 1,
   "metadata": {},
   "outputs": [],
   "source": [
    "import matplotlib.pyplot as plt\n",
    "import numpy as np\n",
    "import networkx as nx\n",
    "import pandas as pd\n",
    "\n",
    "%matplotlib inline"
   ]
  },
  {
   "cell_type": "code",
   "execution_count": 2,
   "metadata": {},
   "outputs": [],
   "source": [
    "df1 = pd.read_csv(\"../data/shrek1_dialog_w_timestamps.csv\", index_col=\"Unnamed: 0\")\n",
    "df2 = pd.read_csv(\"../data/shrek2_dialog_w_timestamps.csv\", index_col=\"Unnamed: 0\")\n",
    "df3 = pd.read_csv(\"../data/shrek3_dialog_w_timestamps.csv\", index_col=\"Unnamed: 0\")\n",
    "df = pd.concat([df1, df2, df3])"
   ]
  },
  {
   "cell_type": "code",
   "execution_count": 3,
   "metadata": {},
   "outputs": [],
   "source": [
    "df['dialog_clean'] = df.dialog.str.replace(r'[,\\'\".?!~\\t]', '')\n",
    "df['dialog_clean'] = df.dialog_clean.str.replace('-', ' ')\n",
    "df['dialog_clean'] = df.dialog_clean.str.strip()\n",
    "df = df[~df.dialog.isnull()]\n",
    "\n",
    "df['word_count'] = df.dialog_clean.str.split().apply(len)\n",
    "\n",
    "word_counts = df.groupby('name').word_count.sum()\n",
    "top_chars = list(df.groupby('name').word_count.sum().drop('SOUND FX').sort_values(ascending=False)[:20].index)\n",
    "df = df[df.name.isin(top_chars)]"
   ]
  },
  {
   "cell_type": "code",
   "execution_count": 4,
   "metadata": {},
   "outputs": [],
   "source": [
    "df1 = df[df.name != df.name.shift(-1)]"
   ]
  },
  {
   "cell_type": "code",
   "execution_count": 5,
   "metadata": {},
   "outputs": [],
   "source": [
    "converse = pd.DataFrame({\"name1\": df1.name.values, \"name2\": df1.name.shift(-1).values})\n",
    "converse = converse[(converse.name1!=\"MUSIC\")&(converse.name2!=\"MUSIC\")]"
   ]
  },
  {
   "cell_type": "code",
   "execution_count": 6,
   "metadata": {},
   "outputs": [],
   "source": [
    "replacements = {'CINDERALLA': 'CINDERELLA', 'CAPTAIN HOOKS': 'CAPTAIN HOOK',\n",
    "                'PRINCE CHARING': 'PRINCE CHARMING', 'PRINE CHARMING': 'PRINCE CHARMING',\n",
    "               'BIG BAD WOLF': 'WOLFIE', 'MOUSE': 'BLIND MOUSE', 'AUDIENCE': 'CROWD',\n",
    "               'GINGERBREAD MAN': 'GINGY', 'KING': 'KING HAROLD', 'SHEK': 'SHREK'}\n",
    "todrop = ['OGRE BABIES', 'INQUISITOR']\n",
    "converse.loc[:, 'name1'] = converse['name1'].apply(\n",
    "    lambda x: replacements[x] if x in replacements.keys() else x)\n",
    "\n",
    "converse.loc[:, 'name2'] = converse['name2'].apply(\n",
    "    lambda x: replacements[x] if x in replacements.keys() else x)\n",
    "\n",
    "converse = converse[(~converse['name1'].isin(todrop))&(~converse['name2'].isin(todrop))]"
   ]
  },
  {
   "cell_type": "code",
   "execution_count": 7,
   "metadata": {},
   "outputs": [],
   "source": [
    "adj_mat = converse.groupby(\"name1\").name2.value_counts().unstack().fillna(0)"
   ]
  },
  {
   "cell_type": "code",
   "execution_count": 8,
   "metadata": {},
   "outputs": [],
   "source": [
    "gr = nx.from_pandas_adjacency(adj_mat)"
   ]
  },
  {
   "cell_type": "code",
   "execution_count": 9,
   "metadata": {},
   "outputs": [],
   "source": [
    "jsnx = nx.readwrite.json_graph.cytoscape_data(gr)"
   ]
  },
  {
   "cell_type": "code",
   "execution_count": 10,
   "metadata": {},
   "outputs": [],
   "source": [
    "json_graph = dict()\n",
    "json_graph.update({'edges': [i['data'] for i in jsnx['elements']['edges']]})\n",
    "json_graph.update({'nodes': [{'id': i['data']['id'],\n",
    "                              'word_count': word_counts[i['data']['id']]} \n",
    "                             for i in jsnx['elements']['nodes']]})"
   ]
  },
  {
   "cell_type": "code",
   "execution_count": 11,
   "metadata": {},
   "outputs": [
    {
     "data": {
      "text/plain": [
       "['DONKEY',\n",
       " 'SHREK',\n",
       " 'FAIRY GODMOTHER',\n",
       " 'RAPUNZEL',\n",
       " 'SNOW WHITE',\n",
       " 'PRINCE CHARMING',\n",
       " 'KING HAROLD',\n",
       " 'PINOCCHIO',\n",
       " 'ARTIE',\n",
       " 'MERLIN',\n",
       " 'FIONA',\n",
       " 'GUARD',\n",
       " 'ROBIN HOOD',\n",
       " 'PUSS',\n",
       " 'GINGY',\n",
       " 'QUEEN',\n",
       " 'MIRROR',\n",
       " 'FARQUAAD']"
      ]
     },
     "execution_count": 11,
     "metadata": {},
     "output_type": "execute_result"
    }
   ],
   "source": [
    "[i['id'] for i in json_graph['nodes']]"
   ]
  },
  {
   "cell_type": "code",
   "execution_count": 12,
   "metadata": {},
   "outputs": [],
   "source": [
    "with open(\"../data/shrek_all_network.json\", \"w\") as f:\n",
    "    f.write(str(json_graph))"
   ]
  }
 ],
 "metadata": {
  "kernelspec": {
   "display_name": "Python 3",
   "language": "python",
   "name": "python3"
  },
  "language_info": {
   "codemirror_mode": {
    "name": "ipython",
    "version": 3
   },
   "file_extension": ".py",
   "mimetype": "text/x-python",
   "name": "python",
   "nbconvert_exporter": "python",
   "pygments_lexer": "ipython3",
   "version": "3.5.3"
  }
 },
 "nbformat": 4,
 "nbformat_minor": 2
}
