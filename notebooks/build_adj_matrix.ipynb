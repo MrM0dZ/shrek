{
 "cells": [
  {
   "cell_type": "code",
   "execution_count": 2,
   "metadata": {},
   "outputs": [],
   "source": [
    "import matplotlib.pyplot as plt\n",
    "import numpy as np\n",
    "import networkx as nx\n",
    "import pandas as pd\n",
    "\n",
    "%matplotlib inline"
   ]
  },
  {
   "cell_type": "code",
   "execution_count": 102,
   "metadata": {},
   "outputs": [
    {
     "name": "stderr",
     "output_type": "stream",
     "text": [
      "/home/mgray/.local/lib/python3.5/site-packages/pandas/core/generic.py:3643: SettingWithCopyWarning: \n",
      "A value is trying to be set on a copy of a slice from a DataFrame.\n",
      "Try using .loc[row_indexer,col_indexer] = value instead\n",
      "\n",
      "See the caveats in the documentation: http://pandas.pydata.org/pandas-docs/stable/indexing.html#indexing-view-versus-copy\n",
      "  self[name] = value\n"
     ]
    }
   ],
   "source": [
    "df1 = pd.read_csv(\"../data/shrek1_dialog_w_timestamps.csv\", index_col=\"Unnamed: 0\")\n",
    "df2 = pd.read_csv(\"../data/shrek2_dialog_w_timestamps.csv\", index_col=\"Unnamed: 0\")\n",
    "df3 = pd.read_csv(\"../data/shrek3_dialog_w_timestamps.csv\", index_col=\"Unnamed: 0\")\n",
    "dfs = [df1, df2, df3]\n",
    "grs = []\n",
    "df = pd.concat(dfs)\n",
    "for df in [df]:\n",
    "    \n",
    "\n",
    "    df['dialog_clean'] = df.dialog.str.replace(r'[,\\'\".?!~\\t]', '')\n",
    "    df['dialog_clean'] = df.dialog_clean.str.replace('-', ' ')\n",
    "    df['dialog_clean'] = df.dialog_clean.str.strip()\n",
    "    df = df[~df.dialog.isnull()]\n",
    "    replacements = {'CINDERALLA': 'CINDERELLA', 'CAPTAIN HOOKS': 'CAPTAIN HOOK',\n",
    "                    'PRINCE CHARING': 'PRINCE CHARMING', 'PRINE CHARMING': 'PRINCE CHARMING',\n",
    "                   'BIG BAD WOLF': 'WOLFIE', 'MOUSE': 'BLIND MOUSE', 'AUDIENCE': 'CROWD',\n",
    "                   'GINGERBREAD MAN': 'GINGY', 'KING': 'KING HAROLD', 'SHEK': 'SHREK',\n",
    "                   'QUEEN': 'QUEEN LILLIAN'}\n",
    "    selected_chars = {'DONKEY', 'SHREK', 'FIONA', 'MUSIC', 'PRINCE CHARMING',\n",
    "                         'FAIRY GODMOTHER', 'PUSS', 'KING HAROLD', 'ARTIE',\n",
    "                         'FARQUAAD', 'MERLIN', 'QUEEN LILLIAN', 'GINGY',\n",
    "                         'SNOW WHITE', 'MIRROR', 'PINOCCHIO', 'GUARD', 'ROBIN HOOD',\n",
    "                         'RAPUNZEL'}\n",
    "\n",
    "    df.name = np.where(df.name.isin(replacements.keys()), df.name.map(replacements), df.name)\n",
    "    df = df[df.name.isin(selected_chars)]\n",
    "\n",
    "    df['word_count'] = df.dialog_clean.str.split().apply(len)\n",
    "\n",
    "    word_counts = df.groupby('name').word_count.sum()\n",
    "    # top_chars = list(df.groupby('name').word_count.sum().drop('SOUND FX').sort_values(ascending=False)[:20].index)\n",
    "    top_chars = list(df.groupby('name').word_count.sum().sort_values(ascending=False)[:20].index)\n",
    "    df = df[df.name.isin(top_chars)]\n",
    "\n",
    "    dfl = df[df.name != df.name.shift(-1)]\n",
    "\n",
    "    converse = pd.DataFrame({\"name1\": dfl.name.values, \"name2\": dfl.name.shift(-1).values})\n",
    "    converse = converse[(converse.name1!=\"MUSIC\")&(converse.name2!=\"MUSIC\")]\n",
    "\n",
    "    adj_mat = converse.groupby(\"name1\").name2.value_counts().unstack().fillna(0)\n",
    "\n",
    "    grs.append(nx.from_pandas_adjacency(adj_mat))"
   ]
  },
  {
   "cell_type": "code",
   "execution_count": null,
   "metadata": {},
   "outputs": [],
   "source": []
  },
  {
   "cell_type": "code",
   "execution_count": 107,
   "metadata": {},
   "outputs": [
    {
     "data": {
      "text/plain": [
       "['DONKEY',\n",
       " 'SHREK',\n",
       " 'FIONA',\n",
       " 'MUSIC',\n",
       " 'PRINCE CHARMING',\n",
       " 'FAIRY GODMOTHER',\n",
       " 'PUSS',\n",
       " 'KING HAROLD',\n",
       " 'ARTIE',\n",
       " 'FARQUAAD',\n",
       " 'MERLIN',\n",
       " 'QUEEN LILLIAN',\n",
       " 'GINGY',\n",
       " 'SNOW WHITE',\n",
       " 'MIRROR',\n",
       " 'PINOCCHIO',\n",
       " 'GUARD',\n",
       " 'ROBIN HOOD',\n",
       " 'RAPUNZEL']"
      ]
     },
     "execution_count": 107,
     "metadata": {},
     "output_type": "execute_result"
    }
   ],
   "source": [
    "top_chars"
   ]
  },
  {
   "cell_type": "code",
   "execution_count": 103,
   "metadata": {},
   "outputs": [
    {
     "data": {
      "text/plain": [
       "[0.50980392156862742]"
      ]
     },
     "execution_count": 103,
     "metadata": {},
     "output_type": "execute_result"
    }
   ],
   "source": [
    "[np.mean(list(nx.algorithms.centrality.degree_centrality(i).values())) for i in grs]"
   ]
  },
  {
   "cell_type": "code",
   "execution_count": 83,
   "metadata": {},
   "outputs": [],
   "source": [
    "jsnx = nx.readwrite.json_graph.cytoscape_data(gr)"
   ]
  },
  {
   "cell_type": "code",
   "execution_count": 84,
   "metadata": {},
   "outputs": [],
   "source": [
    "json_graph = dict()\n",
    "json_graph.update({'edges': [i['data'] for i in jsnx['elements']['edges']]})\n",
    "json_graph.update({'nodes': [{'id': i['data']['id'],\n",
    "                              'word_count': word_counts[i['data']['id']]} \n",
    "                             for i in jsnx['elements']['nodes']]})"
   ]
  },
  {
   "cell_type": "code",
   "execution_count": 85,
   "metadata": {},
   "outputs": [],
   "source": [
    "with open(\"../data/shrek_3_network.json\", \"w\") as f:\n",
    "    f.write(str(json_graph))"
   ]
  }
 ],
 "metadata": {
  "kernelspec": {
   "display_name": "Python 3",
   "language": "python",
   "name": "python3"
  },
  "language_info": {
   "codemirror_mode": {
    "name": "ipython",
    "version": 3
   },
   "file_extension": ".py",
   "mimetype": "text/x-python",
   "name": "python",
   "nbconvert_exporter": "python",
   "pygments_lexer": "ipython3",
   "version": "3.5.3"
  }
 },
 "nbformat": 4,
 "nbformat_minor": 2
}
