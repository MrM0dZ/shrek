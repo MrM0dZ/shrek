{
 "cells": [
  {
   "cell_type": "code",
   "execution_count": 5,
   "metadata": {},
   "outputs": [],
   "source": [
    "import pandas as pd\n",
    "import numpy as np\n",
    "import matplotlib.pyplot as plt\n",
    "import seaborn as sns\n",
    "sns.set_style(\"whitegrid\")\n",
    "\n",
    "%matplotlib inline"
   ]
  },
  {
   "cell_type": "code",
   "execution_count": 364,
   "metadata": {},
   "outputs": [],
   "source": [
    "df = pd.read_csv(\"../data/shrek_dialog_w_timestamps.csv\", index_col=\"Unnamed: 0\")"
   ]
  },
  {
   "cell_type": "markdown",
   "metadata": {},
   "source": [
    "# Line count comparison\n",
    "\n",
    "It's pretty straightforward to compare the number of lines spoken by each of the main characters."
   ]
  },
  {
   "cell_type": "code",
   "execution_count": 365,
   "metadata": {},
   "outputs": [
    {
     "data": {
      "text/plain": [
       "name\n",
       "DONKEY             346\n",
       "SHREK              337\n",
       "FIONA              188\n",
       "MUSIC              142\n",
       "FARQUAAD            99\n",
       "GUARD               25\n",
       "MIRROR              23\n",
       "ROBIN HOOD          16\n",
       "UNKNOWN             12\n",
       "GINGERBREAD MAN      9\n",
       "WOODEN PEOPLE        8\n",
       "PRIEST               8\n",
       "OLD WOMAN            8\n",
       "MERRY MEN            6\n",
       "MEN                  6\n",
       "BLIND MOUSE          4\n",
       "PINOCCHIO            3\n",
       "CROWD                2\n",
       "GUARDS               2\n",
       "DWARF                1\n",
       "CONGREGATION         1\n",
       "MAN                  1\n",
       "LITTLE BEAR          1\n",
       "LITTLE PIG           1\n",
       "WOMAN                1\n",
       "PETER PAN            1\n",
       "THEOLONIUS           1\n",
       "BIG BAD WOLF         1\n",
       "dtype: int64"
      ]
     },
     "execution_count": 365,
     "metadata": {},
     "output_type": "execute_result"
    }
   ],
   "source": [
    "df.groupby('name').count().max(1).sort_values(ascending=False)"
   ]
  },
  {
   "cell_type": "markdown",
   "metadata": {},
   "source": [
    "## Act boundaries\n",
    "\n",
    "We can define the act boundaries as such:\n",
    "\n",
    "### Act 1 ---> Midpoint\n",
    "Beginning ---> Shrek and Donkey head off to DuLoc (`00:15:53`)\n",
    "\n",
    "### Act 2 ---> Midpoint\n",
    "\n",
    "Shrek and Donkey head off to find Fiona ---> They rescue Fiona from the castle (`00:43:38`)\n",
    "\n",
    "### Midpoint ---> Act 3\n",
    "\n",
    "They rescue Fiona ---> Shrek returns to his swamp alone (`01:09:14`)\n",
    "\n",
    "### Act 3 ---> End\n",
    "\n",
    "Shrek returns to his swamp alone ---> End"
   ]
  },
  {
   "cell_type": "code",
   "execution_count": 382,
   "metadata": {},
   "outputs": [],
   "source": [
    "act_2_start = 15*60+53\n",
    "act_2_mid = 43*60+38\n",
    "act_3_start = 1*3600+9*60+14"
   ]
  },
  {
   "cell_type": "code",
   "execution_count": 422,
   "metadata": {},
   "outputs": [
    {
     "data": {
      "image/png": "[encoded data removed]",
      "text/plain": [
       "<matplotlib.figure.Figure at 0x7f297ed4af98>"
      ]
     },
     "metadata": {},
     "output_type": "display_data"
    }
   ],
   "source": [
    "sns.distplot(df[df.name=='SHREK'].timestamp, kde=False, bins=15);\n",
    "plt.vlines([act_2_start, act_2_mid, act_3_start], 0, 40)\n",
    "plt.xlim(0, 5000);\n",
    "plt.ylim(0, 40);\n",
    "plt.ylabel('Line Count');\n",
    "plt.title('Shrek line counts vs time');"
   ]
  },
  {
   "cell_type": "code",
   "execution_count": 423,
   "metadata": {},
   "outputs": [
    {
     "data": {
      "image/png": "[encoded data removed]",
      "text/plain": [
       "<matplotlib.figure.Figure at 0x7f297f847ef0>"
      ]
     },
     "metadata": {},
     "output_type": "display_data"
    }
   ],
   "source": [
    "sns.distplot(df[df.name=='DONKEY'].timestamp, kde=False, bins=15);\n",
    "plt.vlines([act_2_start, act_2_mid, act_3_start], 0, 50)\n",
    "plt.xlim(0, 5000);\n",
    "plt.ylim(0, 50);\n",
    "plt.ylabel('Line Count');\n",
    "plt.title('Donkey line counts vs time');"
   ]
  },
  {
   "cell_type": "code",
   "execution_count": 424,
   "metadata": {},
   "outputs": [
    {
     "data": {
      "image/png": "[encoded data removed]",
      "text/plain": [
       "<matplotlib.figure.Figure at 0x7f297f8daef0>"
      ]
     },
     "metadata": {},
     "output_type": "display_data"
    }
   ],
   "source": [
    "sns.distplot(df[df.name=='FIONA'].timestamp, kde=False, bins=15);\n",
    "plt.vlines([act_2_start, act_2_mid, act_3_start], 0, 30)\n",
    "plt.xlim(0, 5000);\n",
    "plt.ylim(0, 30);\n",
    "plt.ylabel('Line Count');\n",
    "plt.title('Fiona line counts vs time');"
   ]
  },
  {
   "cell_type": "code",
   "execution_count": 425,
   "metadata": {},
   "outputs": [
    {
     "data": {
      "image/png": "[encoded data removed]",
      "text/plain": [
       "<matplotlib.figure.Figure at 0x7f29822d8550>"
      ]
     },
     "metadata": {},
     "output_type": "display_data"
    }
   ],
   "source": [
    "sns.distplot(df[df.name=='FARQUAAD'].timestamp, kde=False, bins=15);\n",
    "plt.vlines([act_2_start, act_2_mid, act_3_start], 0, 30)\n",
    "plt.xlim(0, 5000);\n",
    "plt.ylim(0, 30);\n",
    "plt.ylabel('Line Count');\n",
    "plt.title('Farquaad line counts vs time');"
   ]
  },
  {
   "cell_type": "code",
   "execution_count": 426,
   "metadata": {},
   "outputs": [
    {
     "data": {
      "image/png": "[encoded data removed]",
      "text/plain": [
       "<matplotlib.figure.Figure at 0x7f297f9e5a90>"
      ]
     },
     "metadata": {},
     "output_type": "display_data"
    }
   ],
   "source": [
    "sns.distplot(df[df.name=='MUSIC'].timestamp, kde=False, bins=15);\n",
    "plt.vlines([act_2_start, act_2_mid, act_3_start], 0, 40)\n",
    "plt.xlim(0, 5000);\n",
    "plt.ylim(0, 40);\n",
    "plt.ylabel('Line Count');\n",
    "plt.title('Music line counts vs time');"
   ]
  },
  {
   "cell_type": "code",
   "execution_count": 427,
   "metadata": {},
   "outputs": [
    {
     "data": {
      "image/png": "[encoded data removed]",
      "text/plain": [
       "<matplotlib.figure.Figure at 0x7f297f567c50>"
      ]
     },
     "metadata": {},
     "output_type": "display_data"
    }
   ],
   "source": [
    "sns.distplot(df[~df.name.isin(['SHREK','DONKEY','FIONA','FARQUAAD','MUSIC'])].timestamp, kde=False, bins=15);\n",
    "plt.vlines([act_2_start, act_2_mid, act_3_start], 0, 30)\n",
    "plt.xlim(0, 5000);\n",
    "plt.ylim(0, 30);\n",
    "plt.ylabel('Line Count');\n",
    "plt.title('Misc. line counts vs time');"
   ]
  },
  {
   "cell_type": "markdown",
   "metadata": {},
   "source": [
    "## Word count\n",
    "\n",
    "But for a better comparison (since the number of \"lines\" is determined by whoever put together the subtitle file) we can break the lines apart into a word count."
   ]
  },
  {
   "cell_type": "code",
   "execution_count": 374,
   "metadata": {},
   "outputs": [],
   "source": [
    "df['dialog_clean'] = df.dialog.str.replace(r'[,\\'\".?!]', '')\n",
    "df['dialog_clean'] = df.dialog_clean.str.replace('-', ' ')"
   ]
  },
  {
   "cell_type": "code",
   "execution_count": 375,
   "metadata": {},
   "outputs": [
    {
     "data": {
      "image/png": "[encoded data removed]",
      "text/plain": [
       "<matplotlib.figure.Figure at 0x7f297eb3dba8>"
      ]
     },
     "metadata": {},
     "output_type": "display_data"
    }
   ],
   "source": [
    "df['word_count'] = df.dialog_clean.str.split().apply(len)\n",
    "\n",
    "df.groupby('name').word_count.sum().sort_values(ascending=False)[:10].plot(kind='bar');"
   ]
  },
  {
   "cell_type": "markdown",
   "metadata": {},
   "source": [
    "## Longest words"
   ]
  },
  {
   "cell_type": "code",
   "execution_count": 376,
   "metadata": {},
   "outputs": [
    {
     "data": {
      "text/html": [
       "<div>\n",
       "<style scoped>\n",
       "    .dataframe tbody tr th:only-of-type {\n",
       "        vertical-align: middle;\n",
       "    }\n",
       "\n",
       "    .dataframe tbody tr th {\n",
       "        vertical-align: top;\n",
       "    }\n",
       "\n",
       "    .dataframe thead th {\n",
       "        text-align: right;\n",
       "    }\n",
       "</style>\n",
       "<table border=\"1\" class=\"dataframe\">\n",
       "  <thead>\n",
       "    <tr style=\"text-align: right;\">\n",
       "      <th></th>\n",
       "      <th>mean</th>\n",
       "      <th>std</th>\n",
       "    </tr>\n",
       "    <tr>\n",
       "      <th>name</th>\n",
       "      <th></th>\n",
       "      <th></th>\n",
       "    </tr>\n",
       "  </thead>\n",
       "  <tbody>\n",
       "    <tr>\n",
       "      <th>MIRROR</th>\n",
       "      <td>4.654973</td>\n",
       "      <td>1.091799</td>\n",
       "    </tr>\n",
       "    <tr>\n",
       "      <th>MUSIC</th>\n",
       "      <td>4.099257</td>\n",
       "      <td>1.991978</td>\n",
       "    </tr>\n",
       "    <tr>\n",
       "      <th>FARQUAAD</th>\n",
       "      <td>4.093344</td>\n",
       "      <td>0.958236</td>\n",
       "    </tr>\n",
       "    <tr>\n",
       "      <th>WOODEN PEOPLE</th>\n",
       "      <td>3.992154</td>\n",
       "      <td>0.490429</td>\n",
       "    </tr>\n",
       "    <tr>\n",
       "      <th>DONKEY</th>\n",
       "      <td>3.927797</td>\n",
       "      <td>0.929519</td>\n",
       "    </tr>\n",
       "    <tr>\n",
       "      <th>GUARD</th>\n",
       "      <td>3.918667</td>\n",
       "      <td>0.724602</td>\n",
       "    </tr>\n",
       "    <tr>\n",
       "      <th>SHREK</th>\n",
       "      <td>3.894840</td>\n",
       "      <td>1.001144</td>\n",
       "    </tr>\n",
       "    <tr>\n",
       "      <th>ROBIN HOOD</th>\n",
       "      <td>3.844323</td>\n",
       "      <td>0.577824</td>\n",
       "    </tr>\n",
       "    <tr>\n",
       "      <th>FIONA</th>\n",
       "      <td>3.837463</td>\n",
       "      <td>0.729947</td>\n",
       "    </tr>\n",
       "    <tr>\n",
       "      <th>GUARDS</th>\n",
       "      <td>3.833333</td>\n",
       "      <td>0.235702</td>\n",
       "    </tr>\n",
       "    <tr>\n",
       "      <th>PRIEST</th>\n",
       "      <td>3.832589</td>\n",
       "      <td>0.579681</td>\n",
       "    </tr>\n",
       "    <tr>\n",
       "      <th>MERRY MEN</th>\n",
       "      <td>3.811111</td>\n",
       "      <td>0.432906</td>\n",
       "    </tr>\n",
       "    <tr>\n",
       "      <th>CROWD</th>\n",
       "      <td>3.625000</td>\n",
       "      <td>0.530330</td>\n",
       "    </tr>\n",
       "    <tr>\n",
       "      <th>OLD WOMAN</th>\n",
       "      <td>3.602083</td>\n",
       "      <td>0.721929</td>\n",
       "    </tr>\n",
       "    <tr>\n",
       "      <th>BLIND MOUSE</th>\n",
       "      <td>3.506250</td>\n",
       "      <td>0.171239</td>\n",
       "    </tr>\n",
       "    <tr>\n",
       "      <th>UNKNOWN</th>\n",
       "      <td>3.421528</td>\n",
       "      <td>0.868227</td>\n",
       "    </tr>\n",
       "    <tr>\n",
       "      <th>GINGERBREAD MAN</th>\n",
       "      <td>3.360317</td>\n",
       "      <td>0.944494</td>\n",
       "    </tr>\n",
       "    <tr>\n",
       "      <th>MEN</th>\n",
       "      <td>3.110221</td>\n",
       "      <td>0.723482</td>\n",
       "    </tr>\n",
       "    <tr>\n",
       "      <th>PINOCCHIO</th>\n",
       "      <td>3.027778</td>\n",
       "      <td>0.292657</td>\n",
       "    </tr>\n",
       "  </tbody>\n",
       "</table>\n",
       "</div>"
      ],
      "text/plain": [
       "                     mean       std\n",
       "name                               \n",
       "MIRROR           4.654973  1.091799\n",
       "MUSIC            4.099257  1.991978\n",
       "FARQUAAD         4.093344  0.958236\n",
       "WOODEN PEOPLE    3.992154  0.490429\n",
       "DONKEY           3.927797  0.929519\n",
       "GUARD            3.918667  0.724602\n",
       "SHREK            3.894840  1.001144\n",
       "ROBIN HOOD       3.844323  0.577824\n",
       "FIONA            3.837463  0.729947\n",
       "GUARDS           3.833333  0.235702\n",
       "PRIEST           3.832589  0.579681\n",
       "MERRY MEN        3.811111  0.432906\n",
       "CROWD            3.625000  0.530330\n",
       "OLD WOMAN        3.602083  0.721929\n",
       "BLIND MOUSE      3.506250  0.171239\n",
       "UNKNOWN          3.421528  0.868227\n",
       "GINGERBREAD MAN  3.360317  0.944494\n",
       "MEN              3.110221  0.723482\n",
       "PINOCCHIO        3.027778  0.292657"
      ]
     },
     "execution_count": 376,
     "metadata": {},
     "output_type": "execute_result"
    }
   ],
   "source": [
    "df['char_count'] = df.dialog_clean.str.split().apply(\n",
    "    lambda x: len(''.join(x)))\n",
    "df['char_per_word'] = df.char_count/df.word_count\n",
    "\n",
    "df.groupby('name').char_per_word.aggregate(\n",
    "    [np.mean, np.std]).sort_values(\n",
    "    by='mean', ascending=False).dropna()"
   ]
  },
  {
   "cell_type": "code",
   "execution_count": 377,
   "metadata": {},
   "outputs": [
    {
     "data": {
      "image/png": "[encoded data removed]",
      "text/plain": [
       "<matplotlib.figure.Figure at 0x7f297ed4a630>"
      ]
     },
     "metadata": {},
     "output_type": "display_data"
    }
   ],
   "source": [
    "main_characters = ['SHREK', 'DONKEY', 'FIONA', 'FARQUAAD']\n",
    "\n",
    "sns.boxplot(data=df[df.name.isin(main_characters)], x='name', y='char_per_word');"
   ]
  },
  {
   "cell_type": "markdown",
   "metadata": {},
   "source": [
    "# Most common words"
   ]
  },
  {
   "cell_type": "code",
   "execution_count": 378,
   "metadata": {},
   "outputs": [],
   "source": [
    "from collections import Counter\n",
    "\n",
    "def get_sorted_word_counts(name):\n",
    "    return sorted(Counter(' '.join(df[df.name==name].dialog_clean.str.lower()).split()).items(),\n",
    "                  key=lambda x: x[1],\n",
    "                  reverse=True)\n",
    "\n",
    "def get_word_counts(name):\n",
    "    return Counter(' '.join(df[df.name==name].dialog_clean.str.lower()).split())"
   ]
  },
  {
   "cell_type": "code",
   "execution_count": 379,
   "metadata": {},
   "outputs": [
    {
     "data": {
      "text/plain": [
       "[('SHREK',\n",
       "  [('you', 79),\n",
       "   ('i', 61),\n",
       "   ('the', 47),\n",
       "   ('a', 41),\n",
       "   ('no', 31),\n",
       "   ('to', 29),\n",
       "   ('what', 27),\n",
       "   ('oh', 26),\n",
       "   ('of', 25),\n",
       "   ('im', 23)]),\n",
       " ('DONKEY',\n",
       "  [('you', 141),\n",
       "   ('i', 111),\n",
       "   ('a', 71),\n",
       "   ('the', 50),\n",
       "   ('that', 45),\n",
       "   ('shrek', 42),\n",
       "   ('dont', 41),\n",
       "   ('to', 41),\n",
       "   ('me', 37),\n",
       "   ('no', 34)]),\n",
       " ('FIONA',\n",
       "  [('you', 47),\n",
       "   ('i', 44),\n",
       "   ('a', 35),\n",
       "   ('to', 33),\n",
       "   ('the', 22),\n",
       "   ('this', 18),\n",
       "   ('me', 18),\n",
       "   ('and', 16),\n",
       "   ('is', 16),\n",
       "   ('true', 13)]),\n",
       " ('FARQUAAD',\n",
       "  [('the', 38),\n",
       "   ('you', 24),\n",
       "   ('i', 16),\n",
       "   ('to', 16),\n",
       "   ('and', 13),\n",
       "   ('have', 12),\n",
       "   ('me', 11),\n",
       "   ('a', 10),\n",
       "   ('for', 10),\n",
       "   ('on', 8)])]"
      ]
     },
     "execution_count": 379,
     "metadata": {},
     "output_type": "execute_result"
    }
   ],
   "source": [
    "word_counts = [(name, get_sorted_word_counts(name)[:10]) for name in main_characters]\n",
    "word_counts\n",
    "\n",
    "# Should remove common words with nltk/spacy or something and rerun"
   ]
  },
  {
   "cell_type": "markdown",
   "metadata": {},
   "source": [
    "# \"You vs me\" and \"Us vs them\"\n",
    "\n",
    "Can we use extremely basic NLP techniques to judge how self-centered the characters of _Shrek_ are? Let's find out."
   ]
  },
  {
   "cell_type": "code",
   "execution_count": 416,
   "metadata": {},
   "outputs": [
    {
     "data": {
      "text/plain": [
       "[('MUSIC', 4.2105263157894735),\n",
       " ('UNKNOWN', 2.0),\n",
       " ('OLD WOMAN', 2.0),\n",
       " ('ROBIN HOOD', 2.0),\n",
       " ('PRIEST', 2.0),\n",
       " ('GINGERBREAD MAN', 1.5),\n",
       " ('FIONA', 1.4067796610169492),\n",
       " ('FARQUAAD', 1.34375),\n",
       " ('SHREK', 1.1505376344086022),\n",
       " ('DONKEY', 1.1125),\n",
       " ('GUARD', 1.0),\n",
       " ('MIRROR', 0.4),\n",
       " ('MEN', 0.3333333333333333),\n",
       " ('BLIND MOUSE', 0.0),\n",
       " ('WOODEN PEOPLE', 0.0),\n",
       " ('MERRY MEN', 0.0)]"
      ]
     },
     "execution_count": 416,
     "metadata": {},
     "output_type": "execute_result"
    }
   ],
   "source": [
    "def me_you_ratio(name):\n",
    "    wcs = get_word_counts(name)\n",
    "    me_words = ['me', 'mine', 'my', 'i', 'ive', 'id', 'ill']\n",
    "    you_words = ['you', 'youd', 'youll', 'your', 'youve', 'you\\'re']\n",
    "    me = sum([wcs[i] for i in me_words])\n",
    "    you = sum([wcs[i] for i in you_words])\n",
    "    if you != 0:\n",
    "        return me/you\n",
    "    else:\n",
    "        return np.nan\n",
    "\n",
    "def sort(fun, names=df.name.unique(), reverse=True):\n",
    "    return sorted([(name, fun(name)) for name in names\n",
    "        if not np.isnan(fun(name))], key=lambda x: x[1], reverse=reverse)\n",
    "\n",
    "sort(me_you_ratio)"
   ]
  },
  {
   "cell_type": "code",
   "execution_count": 417,
   "metadata": {},
   "outputs": [
    {
     "data": {
      "text/plain": [
       "[('FARQUAAD', 2.0),\n",
       " ('SHREK', 1.9473684210526316),\n",
       " ('FIONA', 1.8),\n",
       " ('DONKEY', 1.368421052631579),\n",
       " ('MEN', 1.0),\n",
       " ('DWARF', 1.0),\n",
       " ('GUARD', 0.75),\n",
       " ('MUSIC', 0.4444444444444444),\n",
       " ('MIRROR', 0.0),\n",
       " ('CROWD', 0.0),\n",
       " ('WOMAN', 0.0)]"
      ]
     },
     "execution_count": 417,
     "metadata": {},
     "output_type": "execute_result"
    }
   ],
   "source": [
    "def us_them_ratio(name):\n",
    "    wcs = get_word_counts(name)\n",
    "    us_words = ['us', 'we', 'our', 'wed', 'well', 'lets']\n",
    "    them_words = ['their', 'theyre', 'him', 'her', 'his',\n",
    "                  'hers', 'theirs', 'hell', 'shell', 'hed', 'shed']\n",
    "    us = sum([wcs[i] for i in us_words])\n",
    "    them = sum([wcs[i] for i in them_words])\n",
    "    if them != 0:\n",
    "        return us/them\n",
    "    else:\n",
    "        return np.nan\n",
    "    \n",
    "    \n",
    "sort(us_them_ratio)"
   ]
  },
  {
   "cell_type": "markdown",
   "metadata": {},
   "source": [
    "# Vocabulary\n",
    "\n",
    "Who knows the most words? Who repeats themselves the most?"
   ]
  },
  {
   "cell_type": "code",
   "execution_count": 418,
   "metadata": {},
   "outputs": [
    {
     "data": {
      "text/plain": [
       "[('DONKEY', 658),\n",
       " ('SHREK', 550),\n",
       " ('FIONA', 379),\n",
       " ('MUSIC', 295),\n",
       " ('FARQUAAD', 293),\n",
       " ('MIRROR', 136),\n",
       " ('GUARD', 91),\n",
       " ('ROBIN HOOD', 87),\n",
       " ('WOODEN PEOPLE', 41),\n",
       " ('OLD WOMAN', 39),\n",
       " ('UNKNOWN', 35),\n",
       " ('MEN', 33),\n",
       " ('GINGERBREAD MAN', 29),\n",
       " ('PRIEST', 29),\n",
       " ('BLIND MOUSE', 26),\n",
       " ('MERRY MEN', 24),\n",
       " ('PINOCCHIO', 14),\n",
       " ('DWARF', 10),\n",
       " ('LITTLE PIG', 8),\n",
       " ('CROWD', 7),\n",
       " ('PETER PAN', 6),\n",
       " ('LITTLE BEAR', 5),\n",
       " ('THEOLONIUS', 5),\n",
       " ('MAN', 4),\n",
       " ('WOMAN', 4),\n",
       " ('GUARDS', 2),\n",
       " ('BIG BAD WOLF', 1),\n",
       " ('CONGREGATION', 1)]"
      ]
     },
     "execution_count": 418,
     "metadata": {},
     "output_type": "execute_result"
    }
   ],
   "source": [
    "def get_vocab_size(name):\n",
    "    return np.unique(' '.join(df[df.name==name].dialog_clean.str.lower()).split()).shape[0]\n",
    "    \n",
    "sort(get_vocab_size)"
   ]
  },
  {
   "cell_type": "code",
   "execution_count": 420,
   "metadata": {},
   "outputs": [
    {
     "data": {
      "text/plain": [
       "[('FARQUAAD', 0.44596651445966512),\n",
       " ('FIONA', 0.32560137457044674),\n",
       " ('SHREK', 0.28947368421052633),\n",
       " ('DONKEY', 0.24561403508771928)]"
      ]
     },
     "execution_count": 420,
     "metadata": {},
     "output_type": "execute_result"
    }
   ],
   "source": [
    "def pct_unique_words(name):\n",
    "    return np.unique(' '.join(\n",
    "        df[df.name==name].dialog_clean.str.lower()).split()).shape[0] / df[\n",
    "        df.name==name].word_count.sum()\n",
    "    \n",
    "sort(pct_unique_words, names=main_characters)"
   ]
  }
 ],
 "metadata": {
  "kernelspec": {
   "display_name": "Python 3",
   "language": "python",
   "name": "python3"
  },
  "language_info": {
   "codemirror_mode": {
    "name": "ipython",
    "version": 3
   },
   "file_extension": ".py",
   "mimetype": "text/x-python",
   "name": "python",
   "nbconvert_exporter": "python",
   "pygments_lexer": "ipython3",
   "version": "3.5.3"
  }
 },
 "nbformat": 4,
 "nbformat_minor": 2
}
